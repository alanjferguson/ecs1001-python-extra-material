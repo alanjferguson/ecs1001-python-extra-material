{
 "cells": [
  {
   "cell_type": "markdown",
   "metadata": {},
   "source": [
    "# Class 1 - Intro to Numpy Exercise\n",
    "\n",
    "## Problem:\n",
    "You are going to simulate a time-series signal, representing a noisy sine wave, and perform some basic analysis on it using NumPy."
   ]
  },
  {
   "cell_type": "markdown",
   "metadata": {},
   "source": [
    "## Step 1: Create a Time Series (Array Creation)\n",
    "\n",
    "- Create a NumPy array representing time points from 0 to 10 seconds, with a step size of 0.1 seconds.\n",
    "- Use `np.linspace()` or `np.arange()` to generate this time array."
   ]
  },
  {
   "cell_type": "code",
   "execution_count": null,
   "metadata": {},
   "outputs": [],
   "source": [
    "import numpy as np\n",
    "\n",
    "time = # add code here"
   ]
  },
  {
   "cell_type": "markdown",
   "metadata": {},
   "source": [
    "## Step 2: Generate a Sine Wave (Array Operations)\n",
    "\n",
    "- Create a NumPy array representing a sine wave $y = sin(2πt)$ using the time array you just created.\n",
    "- Use NumPy’s `np.sin()` function to calculate the sine values."
   ]
  },
  {
   "cell_type": "code",
   "execution_count": 2,
   "metadata": {},
   "outputs": [],
   "source": [
    "sine_wave = # add code here"
   ]
  },
  {
   "cell_type": "markdown",
   "metadata": {},
   "source": [
    "## Step 3: Add Noise (Array Manipulation)\n",
    "\n",
    "- Add random noise to the sine wave to simulate a noisy signal. The noise should be random values between -0.5 and 0.5. \n",
    "- Use `np.random.uniform()` to generate this noise and add it to your sine wave."
   ]
  },
  {
   "cell_type": "code",
   "execution_count": null,
   "metadata": {},
   "outputs": [],
   "source": [
    "noise = # add code here\n",
    "\n",
    "noisy_sine_wave = # add code here"
   ]
  },
  {
   "cell_type": "markdown",
   "metadata": {},
   "source": [
    "## Step 4: Basic Signal Analysis (Mathematical Operations)\n",
    "\n",
    "- Calculate the mean and standard deviation of the noisy signal using `np.mean()` and `np.std()`.\n",
    "- Find the maximum and minimum values of the noisy signal using `np.max()` and `np.min()`."
   ]
  },
  {
   "cell_type": "code",
   "execution_count": null,
   "metadata": {},
   "outputs": [],
   "source": [
    "signal_mean = # add code here\n",
    "signal_std = # add code here\n",
    "signal_min = # add code here\n",
    "signal_max = # add code here\n",
    "\n",
    "print(f\"Mean: {signal_mean}\")\n",
    "print(f\"Standard deviation: {signal_std}\")\n",
    "print(f\"Minimum: {signal_min}\")\n",
    "print(f\"Maximum: {signal_max}\")"
   ]
  },
  {
   "cell_type": "markdown",
   "metadata": {},
   "source": [
    "## Step 5: Signal Slicing (Indexing and Slicing)\n",
    "\n",
    "- Slice the signal to extract the values between 2 and 4 seconds and calculate the average value of this portion of the signal."
   ]
  },
  {
   "cell_type": "code",
   "execution_count": null,
   "metadata": {},
   "outputs": [],
   "source": [
    "extracted_signal = noisy_sine_wave[# add code here]\n",
    "extracted_mean = # add code here\n",
    "print(f\"Extracted mean: {extracted_mean}\")"
   ]
  },
  {
   "cell_type": "markdown",
   "metadata": {},
   "source": [
    "## Step 6: Plot the Signal (Optional)\n",
    "\n",
    "- Use `matplotlib` to plot the original sine wave and noisy sine wave."
   ]
  },
  {
   "cell_type": "code",
   "execution_count": null,
   "metadata": {},
   "outputs": [],
   "source": [
    "import matplotlib.pyplot as plt\n",
    "\n",
    "plt.plot(# add code here)"
   ]
  }
 ],
 "metadata": {
  "kernelspec": {
   "display_name": ".venv",
   "language": "python",
   "name": "python3"
  },
  "language_info": {
   "codemirror_mode": {
    "name": "ipython",
    "version": 3
   },
   "file_extension": ".py",
   "mimetype": "text/x-python",
   "name": "python",
   "nbconvert_exporter": "python",
   "pygments_lexer": "ipython3",
   "version": "3.12.2"
  }
 },
 "nbformat": 4,
 "nbformat_minor": 2
}
