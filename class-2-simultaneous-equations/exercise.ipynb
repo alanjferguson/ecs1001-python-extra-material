{
 "cells": [
  {
   "cell_type": "markdown",
   "metadata": {},
   "source": [
    "# Class 2 - Simultaneous Equations using Numpy\n",
    "\n",
    "## Problem 1:\n",
    "You have two coffee blends:\n",
    "\n",
    "- Blend A is 30% Arabica coffee beans\n",
    "- Blend B is 60% Arabica coffee beans\n",
    "\n",
    "You need to prepare 10 kilograms of a new blend that contains 45% Arabica by mixing Blends A and B. How much of each blend should be mixed?\n",
    "\n",
    "Hint: write out the constraints for this problem"
   ]
  },
  {
   "cell_type": "code",
   "execution_count": 2,
   "metadata": {},
   "outputs": [],
   "source": [
    "import numpy as np\n",
    "\n",
    "# write out constraints"
   ]
  },
  {
   "cell_type": "markdown",
   "metadata": {},
   "source": [
    "## Problem 2:\n",
    "Fit a quadratic to the following points:\n",
    "\n",
    "$$(1, 1), \\quad (2, 4), \\quad (3, 9)$$"
   ]
  },
  {
   "cell_type": "code",
   "execution_count": null,
   "metadata": {},
   "outputs": [],
   "source": []
  },
  {
   "cell_type": "markdown",
   "metadata": {},
   "source": [
    "## Problem 3:\n",
    "Solve the circuit drawn below using nodal analysis:\n",
    "\n",
    "![Circuit](exercise_circuit.png)"
   ]
  },
  {
   "cell_type": "code",
   "execution_count": null,
   "metadata": {},
   "outputs": [],
   "source": [
    "R1 = 100.0\n",
    "R2 = 200.0\n",
    "R3 = 100.0\n",
    "R4 = 300.0\n",
    "R5 = 700.0\n",
    "\n",
    "G1 = 1 / R1\n",
    "G2 = 1 / R2\n",
    "G3 = 1 / R3\n",
    "G4 = 1 / R4\n",
    "G5 = 1 / R5\n",
    "\n",
    "# Define the conductance matrix G\n",
    "\n",
    "# Solve the system of equations\n",
    "\n"
   ]
  }
 ],
 "metadata": {
  "kernelspec": {
   "display_name": ".venv",
   "language": "python",
   "name": "python3"
  },
  "language_info": {
   "codemirror_mode": {
    "name": "ipython",
    "version": 3
   },
   "file_extension": ".py",
   "mimetype": "text/x-python",
   "name": "python",
   "nbconvert_exporter": "python",
   "pygments_lexer": "ipython3",
   "version": "3.12.2"
  }
 },
 "nbformat": 4,
 "nbformat_minor": 2
}
